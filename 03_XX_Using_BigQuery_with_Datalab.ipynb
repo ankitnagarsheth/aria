{
  "nbformat": 4,
  "nbformat_minor": 0,
  "metadata": {
    "colab": {
      "name": "03_XX_Using_BigQuery_with_Datalab.ipynb",
      "version": "0.3.2",
      "provenance": [],
      "include_colab_link": true
    },
    "language_info": {
      "codemirror_mode": {
        "name": "ipython",
        "version": 2
      },
      "file_extension": ".py",
      "mimetype": "text/x-python",
      "name": "python",
      "nbconvert_exporter": "python",
      "pygments_lexer": "ipython2",
      "version": "2.7.15"
    },
    "kernelspec": {
      "display_name": "Python 2",
      "language": "python",
      "name": "python2"
    }
  },
  "cells": [
    {
      "cell_type": "markdown",
      "metadata": {
        "id": "view-in-github",
        "colab_type": "text"
      },
      "source": [
        "<a href=\"https://colab.research.google.com/github/ankitnagarsheth/aria/blob/master/03_XX_Using_BigQuery_with_Datalab.ipynb\" target=\"_parent\"><img src=\"https://colab.research.google.com/assets/colab-badge.svg\" alt=\"Open In Colab\"/></a>"
      ]
    },
    {
      "metadata": {
        "deletable": true,
        "editable": true,
        "id": "ewji9UOWt9ll",
        "colab_type": "text"
      },
      "cell_type": "markdown",
      "source": [
        "<center><h1><font color='green'>Datalab BigQuery integration </font></h1></center>\n",
        "<br/>"
      ]
    },
    {
      "metadata": {
        "deletable": true,
        "editable": true,
        "id": "OiN2rBSnt9ln",
        "colab_type": "text"
      },
      "cell_type": "markdown",
      "source": [
        "<h2>03_02. Using Big Query Commands </h2>\n"
      ]
    },
    {
      "metadata": {
        "deletable": true,
        "editable": true,
        "id": "jRAW46l-t9lo",
        "colab_type": "code",
        "colab": {
          "base_uri": "https://localhost:8080/",
          "height": 34
        },
        "outputId": "4d9280d4-84e0-4242-fb86-12c17ccc39a5"
      },
      "cell_type": "code",
      "source": [
        "%%bq --help"
      ],
      "execution_count": 1,
      "outputs": [
        {
          "output_type": "stream",
          "text": [
            "UsageError: Cell magic `%%bq` not found.\n"
          ],
          "name": "stderr"
        }
      ]
    },
    {
      "metadata": {
        "deletable": true,
        "editable": true,
        "id": "oEyuJlFwt9lv",
        "colab_type": "code",
        "colab": {},
        "outputId": "f556109e-dadb-4a96-873b-17563f32ca43"
      },
      "cell_type": "code",
      "source": [
        "%%bq tables list"
      ],
      "execution_count": 0,
      "outputs": [
        {
          "output_type": "execute_result",
          "data": {
            "text/html": [
              "<ul><li>course-prep.EDA.Type1Customers</li><li>course-prep.EDA.campaigns</li><li>course-prep.EDA.website_visits</li><li>course-prep.PatientData.NonSmokerData</li><li>course-prep.PatientData.normal_ranges</li><li>course-prep.PatientData.patient_details</li><li>course-prep.PatientData.test_results</li><li>course-prep.PatientData.test_results_partitioned</li></ul>"
            ],
            "text/plain": [
              "<IPython.core.display.HTML object>"
            ]
          },
          "metadata": {
            "tags": []
          },
          "execution_count": 4
        }
      ]
    },
    {
      "metadata": {
        "deletable": true,
        "editable": true,
        "id": "OpvCQLTIt9l0",
        "colab_type": "text"
      },
      "cell_type": "markdown",
      "source": [
        "<h2>03_03.Reading data from BigQuery</h2>\n",
        "\n",
        "Big Query queries can be directly executed using the bq command option"
      ]
    },
    {
      "metadata": {
        "deletable": true,
        "editable": true,
        "id": "v_wab5yot9l1",
        "colab_type": "code",
        "colab": {},
        "outputId": "b01dc550-a7f1-4bae-92a9-ba7b06c8d139"
      },
      "cell_type": "code",
      "source": [
        "%%bq query\n",
        "SELECT CustomerName,Gender,Age,Salary\n",
        "FROM EDA.website_visits \n",
        "WHERE CustomerType=1\n",
        "LIMIT 10"
      ],
      "execution_count": 0,
      "outputs": [
        {
          "output_type": "execute_result",
          "data": {
            "text/html": [
              "\n",
              "    <div class=\"bqtv\" id=\"1_153227305450\"><table><tr><th>CustomerName</th><th>Gender</th><th>Age</th><th>Salary</th></tr><tr><td>Tiuit,Douglas </td><td>Male</td><td>17</td><td>196</td></tr><tr><td>Cheese,Claiborn </td><td>Male</td><td>17</td><td>101</td></tr><tr><td>Suarez,Clyde </td><td>Male</td><td>17</td><td>80</td></tr><tr><td>Bergen,Jory </td><td>Male</td><td>17</td><td>102</td></tr><tr><td>Itzkovsky,Gus </td><td>Male</td><td>17</td><td>21</td></tr><tr><td>Screeton,Marius </td><td>Male</td><td>17</td><td>164</td></tr><tr><td>Carletto,Franzen </td><td>Male</td><td>17</td><td>155</td></tr><tr><td>Oakes,Homer </td><td>Male</td><td>17</td><td>52</td></tr><tr><td>Theressa MacDermid</td><td>Female</td><td>17</td><td>150</td></tr><tr><td>Henrie Moyce</td><td>Female</td><td>17</td><td>95</td></tr></table></div>\n",
              "    <br />(rows: 10, time: 0.1s, cached, job: job_Iv2XPJVcB-VmiJta7r5hIvpJnkl8)<br />\n",
              "    <script src=\"/static/components/requirejs/require.js\"></script>\n",
              "    <script>\n",
              "      require.config({\n",
              "        paths: {\n",
              "          base: '/static/base',\n",
              "          d3: '//cdnjs.cloudflare.com/ajax/libs/d3/3.4.13/d3',\n",
              "          plotly: 'https://cdn.plot.ly/plotly-1.5.1.min.js?noext',\n",
              "          jquery: '//ajax.googleapis.com/ajax/libs/jquery/2.0.0/jquery.min'\n",
              "        },\n",
              "        map: {\n",
              "          '*': {\n",
              "            datalab: 'nbextensions/gcpdatalab'\n",
              "          }\n",
              "        },\n",
              "        shim: {\n",
              "          plotly: {\n",
              "            deps: ['d3', 'jquery'],\n",
              "            exports: 'plotly'\n",
              "          }\n",
              "        }\n",
              "      });\n",
              "\n",
              "      require(['datalab/charting', 'datalab/element!1_153227305450', 'base/js/events',\n",
              "          'datalab/style!/nbextensions/gcpdatalab/charting.css'],\n",
              "        function(charts, dom, events) {\n",
              "          charts.render('gcharts', dom, events, 'table', [], {\"rows\": [{\"c\": [{\"v\": \"Tiuit,Douglas \"}, {\"v\": \"Male\"}, {\"v\": 17}, {\"v\": 196}]}, {\"c\": [{\"v\": \"Cheese,Claiborn \"}, {\"v\": \"Male\"}, {\"v\": 17}, {\"v\": 101}]}, {\"c\": [{\"v\": \"Suarez,Clyde \"}, {\"v\": \"Male\"}, {\"v\": 17}, {\"v\": 80}]}, {\"c\": [{\"v\": \"Bergen,Jory \"}, {\"v\": \"Male\"}, {\"v\": 17}, {\"v\": 102}]}, {\"c\": [{\"v\": \"Itzkovsky,Gus \"}, {\"v\": \"Male\"}, {\"v\": 17}, {\"v\": 21}]}, {\"c\": [{\"v\": \"Screeton,Marius \"}, {\"v\": \"Male\"}, {\"v\": 17}, {\"v\": 164}]}, {\"c\": [{\"v\": \"Carletto,Franzen \"}, {\"v\": \"Male\"}, {\"v\": 17}, {\"v\": 155}]}, {\"c\": [{\"v\": \"Oakes,Homer \"}, {\"v\": \"Male\"}, {\"v\": 17}, {\"v\": 52}]}, {\"c\": [{\"v\": \"Theressa MacDermid\"}, {\"v\": \"Female\"}, {\"v\": 17}, {\"v\": 150}]}, {\"c\": [{\"v\": \"Henrie Moyce\"}, {\"v\": \"Female\"}, {\"v\": 17}, {\"v\": 95}]}], \"cols\": [{\"type\": \"string\", \"id\": \"CustomerName\", \"label\": \"CustomerName\"}, {\"type\": \"string\", \"id\": \"Gender\", \"label\": \"Gender\"}, {\"type\": \"number\", \"id\": \"Age\", \"label\": \"Age\"}, {\"type\": \"number\", \"id\": \"Salary\", \"label\": \"Salary\"}]},\n",
              "            {\n",
              "              pageSize: 25,\n",
              "              cssClassNames:  {\n",
              "                tableRow: 'gchart-table-row',\n",
              "                headerRow: 'gchart-table-headerrow',\n",
              "                oddTableRow: 'gchart-table-oddrow',\n",
              "                selectedTableRow: 'gchart-table-selectedrow',\n",
              "                hoverTableRow: 'gchart-table-hoverrow',\n",
              "                tableCell: 'gchart-table-cell',\n",
              "                headerCell: 'gchart-table-headercell',\n",
              "                rowNumberCell: 'gchart-table-rownumcell'\n",
              "              }\n",
              "            },\n",
              "            {source_index: 0, fields: 'CustomerName,Gender,Age,Salary'},\n",
              "            0,\n",
              "            10);\n",
              "        }\n",
              "      );\n",
              "    </script>\n",
              "  "
            ],
            "text/plain": [
              "QueryResultsTable job_Iv2XPJVcB-VmiJta7r5hIvpJnkl8"
            ]
          },
          "metadata": {
            "tags": []
          },
          "execution_count": 1
        }
      ]
    },
    {
      "metadata": {
        "deletable": true,
        "editable": true,
        "id": "oN9yoG_5t9l6",
        "colab_type": "text"
      },
      "cell_type": "markdown",
      "source": [
        "<h4>Creating named Queries </h4>"
      ]
    },
    {
      "metadata": {
        "deletable": true,
        "editable": true,
        "id": "UkG9qJl2t9l7",
        "colab_type": "code",
        "colab": {
          "base_uri": "https://localhost:8080/",
          "height": 128
        },
        "outputId": "d48c3ab4-ae3a-4204-c529-4ac608782c57"
      },
      "cell_type": "code",
      "source": [
        "query --name customer\n",
        "SELECT CustomerName,Gender,Age,Salary\n",
        "FROM EDA.website_visits \n",
        "WHERE CustomerType=1\n",
        "LIMIT 10"
      ],
      "execution_count": 2,
      "outputs": [
        {
          "output_type": "error",
          "ename": "SyntaxError",
          "evalue": "ignored",
          "traceback": [
            "\u001b[0;36m  File \u001b[0;32m\"<ipython-input-2-6fcad3c2f9b7>\"\u001b[0;36m, line \u001b[0;32m1\u001b[0m\n\u001b[0;31m    query --name customer\u001b[0m\n\u001b[0m                        ^\u001b[0m\n\u001b[0;31mSyntaxError\u001b[0m\u001b[0;31m:\u001b[0m invalid syntax\n"
          ]
        }
      ]
    },
    {
      "metadata": {
        "deletable": true,
        "editable": true,
        "id": "McJvCURtt9l9",
        "colab_type": "text"
      },
      "cell_type": "markdown",
      "source": [
        "<h2>03_04.Working with Data Frames <h2>"
      ]
    },
    {
      "metadata": {
        "deletable": true,
        "editable": true,
        "id": "BVhUqb-Gt9l-",
        "colab_type": "text"
      },
      "cell_type": "markdown",
      "source": [
        "<h4>Reading from a BigQuery table to a DataFrame</h4>"
      ]
    },
    {
      "metadata": {
        "deletable": true,
        "editable": true,
        "id": "V8INkbgWt9l_",
        "colab_type": "code",
        "colab": {
          "base_uri": "https://localhost:8080/",
          "height": 363
        },
        "outputId": "c4765ab1-a304-4a5f-c253-6ca352c13a6a"
      },
      "cell_type": "code",
      "source": [
        "#import BigQuery library\n",
        "import google.datalab.bigquery as bq\n",
        "\n",
        "#create a query object\n",
        "cust_query = bq.Query('SELECT CustomerName,Gender,Age,Salary FROM EDA.website_visits WHERE CustomerType=1 LIMIT 10')\n",
        "\n",
        "#Execute the query and create a results object\n",
        "output_options = bq.QueryOutput.table(use_cache=False)\n",
        "cust_results = cust_query.execute(output_options=output_options).result()\n",
        "\n",
        "#Convert the results objects to a dataframe\n",
        "cust_df = cust_results.to_dataframe()\n",
        "print(cust_df)"
      ],
      "execution_count": 3,
      "outputs": [
        {
          "output_type": "error",
          "ename": "ImportError",
          "evalue": "ignored",
          "traceback": [
            "\u001b[0;31m\u001b[0m",
            "\u001b[0;31mImportError\u001b[0mTraceback (most recent call last)",
            "\u001b[0;32m<ipython-input-3-4b7fbad4a49e>\u001b[0m in \u001b[0;36m<module>\u001b[0;34m()\u001b[0m\n\u001b[0;32m----> 1\u001b[0;31m \u001b[0;32mimport\u001b[0m \u001b[0mgoogle\u001b[0m\u001b[0;34m.\u001b[0m\u001b[0mdatalab\u001b[0m\u001b[0;34m.\u001b[0m\u001b[0mbigquery\u001b[0m \u001b[0;32mas\u001b[0m \u001b[0mbq\u001b[0m\u001b[0;34m\u001b[0m\u001b[0m\n\u001b[0m\u001b[1;32m      2\u001b[0m \u001b[0;34m\u001b[0m\u001b[0m\n\u001b[1;32m      3\u001b[0m \u001b[0;31m#create a query object\u001b[0m\u001b[0;34m\u001b[0m\u001b[0;34m\u001b[0m\u001b[0m\n\u001b[1;32m      4\u001b[0m \u001b[0mcust_query\u001b[0m \u001b[0;34m=\u001b[0m \u001b[0mbq\u001b[0m\u001b[0;34m.\u001b[0m\u001b[0mQuery\u001b[0m\u001b[0;34m(\u001b[0m\u001b[0;34m'SELECT CustomerName,Gender,Age,Salary FROM EDA.website_visits WHERE CustomerType=1 LIMIT 10'\u001b[0m\u001b[0;34m)\u001b[0m\u001b[0;34m\u001b[0m\u001b[0m\n\u001b[1;32m      5\u001b[0m \u001b[0;34m\u001b[0m\u001b[0m\n",
            "\u001b[0;31mImportError\u001b[0m: No module named datalab.bigquery",
            "",
            "\u001b[0;31m---------------------------------------------------------------------------\u001b[0;32m\nNOTE: If your import is failing due to a missing package, you can\nmanually install dependencies using either !pip or !apt.\n\nTo view examples of installing some common dependencies, click the\n\"Open Examples\" button below.\n\u001b[0;31m---------------------------------------------------------------------------\u001b[0m\n"
          ]
        }
      ]
    },
    {
      "metadata": {
        "deletable": true,
        "editable": true,
        "id": "ujeU_A92t9mE",
        "colab_type": "text"
      },
      "cell_type": "markdown",
      "source": [
        "<h2>03_05.Writing to BigQuery</h2>"
      ]
    },
    {
      "metadata": {
        "deletable": true,
        "editable": true,
        "id": "HKqbOlMst9mG",
        "colab_type": "code",
        "colab": {}
      },
      "cell_type": "code",
      "source": [
        "#Get schema from existing dataframe\n",
        "schema = bq.Schema.from_data(cust_df)\n",
        "\n",
        "#create table with schema\n",
        "cust_1_table = bq.Table('EDA.Type1Customers').create(schema = schema, overwrite = True)\n"
      ],
      "execution_count": 0,
      "outputs": []
    },
    {
      "metadata": {
        "deletable": true,
        "editable": true,
        "id": "nJWNDWYkt9mO",
        "colab_type": "code",
        "colab": {},
        "outputId": "70903cc4-ef4d-4d51-f5c2-2c955115e7fd"
      },
      "cell_type": "code",
      "source": [
        "#insert data into the new table\n",
        "cust_1_table.insert(cust_df)"
      ],
      "execution_count": 0,
      "outputs": [
        {
          "output_type": "execute_result",
          "data": {
            "text/html": [
              "\n",
              "    <div class=\"bqtv\" id=\"1_153228093222\"><table><tr><th>CustomerName</th><th>Gender</th><th>Age</th><th>Salary</th></tr><tr><td>Bergen,Jory </td><td>Male</td><td>17</td><td>102</td></tr><tr><td>Oakes,Homer </td><td>Male</td><td>17</td><td>52</td></tr><tr><td>Itzkovsky,Gus </td><td>Male</td><td>17</td><td>21</td></tr><tr><td>Suarez,Clyde </td><td>Male</td><td>17</td><td>80</td></tr><tr><td>Tiuit,Douglas </td><td>Male</td><td>17</td><td>196</td></tr><tr><td>Carletto,Franzen </td><td>Male</td><td>17</td><td>155</td></tr><tr><td>Henrie Moyce</td><td>Female</td><td>17</td><td>95</td></tr><tr><td>Cheese,Claiborn </td><td>Male</td><td>17</td><td>101</td></tr><tr><td>Theressa MacDermid</td><td>Female</td><td>17</td><td>150</td></tr><tr><td>Screeton,Marius </td><td>Male</td><td>17</td><td>164</td></tr></table></div>\n",
              "    <br />(rows: 0, course-prep.EDA.Type1Customers)<br />\n",
              "    <script src=\"/static/components/requirejs/require.js\"></script>\n",
              "    <script>\n",
              "      require.config({\n",
              "        paths: {\n",
              "          base: '/static/base',\n",
              "          d3: '//cdnjs.cloudflare.com/ajax/libs/d3/3.4.13/d3',\n",
              "          plotly: 'https://cdn.plot.ly/plotly-1.5.1.min.js?noext',\n",
              "          jquery: '//ajax.googleapis.com/ajax/libs/jquery/2.0.0/jquery.min'\n",
              "        },\n",
              "        map: {\n",
              "          '*': {\n",
              "            datalab: 'nbextensions/gcpdatalab'\n",
              "          }\n",
              "        },\n",
              "        shim: {\n",
              "          plotly: {\n",
              "            deps: ['d3', 'jquery'],\n",
              "            exports: 'plotly'\n",
              "          }\n",
              "        }\n",
              "      });\n",
              "\n",
              "      require(['datalab/charting', 'datalab/element!1_153228093222', 'base/js/events',\n",
              "          'datalab/style!/nbextensions/gcpdatalab/charting.css'],\n",
              "        function(charts, dom, events) {\n",
              "          charts.render('gcharts', dom, events, 'table', [], {\"rows\": [{\"c\": [{\"v\": \"Bergen,Jory \"}, {\"v\": \"Male\"}, {\"v\": 17}, {\"v\": 102}]}, {\"c\": [{\"v\": \"Oakes,Homer \"}, {\"v\": \"Male\"}, {\"v\": 17}, {\"v\": 52}]}, {\"c\": [{\"v\": \"Itzkovsky,Gus \"}, {\"v\": \"Male\"}, {\"v\": 17}, {\"v\": 21}]}, {\"c\": [{\"v\": \"Suarez,Clyde \"}, {\"v\": \"Male\"}, {\"v\": 17}, {\"v\": 80}]}, {\"c\": [{\"v\": \"Tiuit,Douglas \"}, {\"v\": \"Male\"}, {\"v\": 17}, {\"v\": 196}]}, {\"c\": [{\"v\": \"Carletto,Franzen \"}, {\"v\": \"Male\"}, {\"v\": 17}, {\"v\": 155}]}, {\"c\": [{\"v\": \"Henrie Moyce\"}, {\"v\": \"Female\"}, {\"v\": 17}, {\"v\": 95}]}, {\"c\": [{\"v\": \"Cheese,Claiborn \"}, {\"v\": \"Male\"}, {\"v\": 17}, {\"v\": 101}]}, {\"c\": [{\"v\": \"Theressa MacDermid\"}, {\"v\": \"Female\"}, {\"v\": 17}, {\"v\": 150}]}, {\"c\": [{\"v\": \"Screeton,Marius \"}, {\"v\": \"Male\"}, {\"v\": 17}, {\"v\": 164}]}], \"cols\": [{\"type\": \"string\", \"id\": \"CustomerName\", \"label\": \"CustomerName\"}, {\"type\": \"string\", \"id\": \"Gender\", \"label\": \"Gender\"}, {\"type\": \"number\", \"id\": \"Age\", \"label\": \"Age\"}, {\"type\": \"number\", \"id\": \"Salary\", \"label\": \"Salary\"}]},\n",
              "            {\n",
              "              pageSize: 25,\n",
              "              cssClassNames:  {\n",
              "                tableRow: 'gchart-table-row',\n",
              "                headerRow: 'gchart-table-headerrow',\n",
              "                oddTableRow: 'gchart-table-oddrow',\n",
              "                selectedTableRow: 'gchart-table-selectedrow',\n",
              "                hoverTableRow: 'gchart-table-hoverrow',\n",
              "                tableCell: 'gchart-table-cell',\n",
              "                headerCell: 'gchart-table-headercell',\n",
              "                rowNumberCell: 'gchart-table-rownumcell'\n",
              "              }\n",
              "            },\n",
              "            {source_index: 0, fields: 'CustomerName,Gender,Age,Salary'},\n",
              "            0,\n",
              "            0);\n",
              "        }\n",
              "      );\n",
              "    </script>\n",
              "  "
            ],
            "text/plain": [
              "BigQuery Table - name: course-prep.EDA.Type1Customers"
            ]
          },
          "metadata": {
            "tags": []
          },
          "execution_count": 3
        }
      ]
    },
    {
      "metadata": {
        "deletable": true,
        "editable": true,
        "id": "2RX2HQ6zt9mW",
        "colab_type": "code",
        "colab": {},
        "outputId": "d6c2ccab-daa6-47d9-93b9-2542c77a9542"
      },
      "cell_type": "code",
      "source": [
        "#Query data in the table to see the rows inserted\n",
        "%%bq query \n",
        "SELECT * FROM EDA.Type1Customers"
      ],
      "execution_count": 0,
      "outputs": [
        {
          "output_type": "execute_result",
          "data": {
            "text/html": [
              "\n",
              "    <div class=\"bqtv\" id=\"2_153228094236\"><table><tr><th>CustomerName</th><th>Gender</th><th>Age</th><th>Salary</th></tr><tr><td>Bergen,Jory </td><td>Male</td><td>17</td><td>102</td></tr><tr><td>Oakes,Homer </td><td>Male</td><td>17</td><td>52</td></tr><tr><td>Itzkovsky,Gus </td><td>Male</td><td>17</td><td>21</td></tr><tr><td>Suarez,Clyde </td><td>Male</td><td>17</td><td>80</td></tr><tr><td>Tiuit,Douglas </td><td>Male</td><td>17</td><td>196</td></tr><tr><td>Carletto,Franzen </td><td>Male</td><td>17</td><td>155</td></tr><tr><td>Cheese,Claiborn </td><td>Male</td><td>17</td><td>101</td></tr><tr><td>Screeton,Marius </td><td>Male</td><td>17</td><td>164</td></tr><tr><td>Henrie Moyce</td><td>Female</td><td>17</td><td>95</td></tr><tr><td>Theressa MacDermid</td><td>Female</td><td>17</td><td>150</td></tr></table></div>\n",
              "    <br />(rows: 10, time: 1.2s,     0B processed, job: job_AnLlHwJBdtzvqLQ12kTULVNQTgi-)<br />\n",
              "    <script src=\"/static/components/requirejs/require.js\"></script>\n",
              "    <script>\n",
              "      require.config({\n",
              "        paths: {\n",
              "          base: '/static/base',\n",
              "          d3: '//cdnjs.cloudflare.com/ajax/libs/d3/3.4.13/d3',\n",
              "          plotly: 'https://cdn.plot.ly/plotly-1.5.1.min.js?noext',\n",
              "          jquery: '//ajax.googleapis.com/ajax/libs/jquery/2.0.0/jquery.min'\n",
              "        },\n",
              "        map: {\n",
              "          '*': {\n",
              "            datalab: 'nbextensions/gcpdatalab'\n",
              "          }\n",
              "        },\n",
              "        shim: {\n",
              "          plotly: {\n",
              "            deps: ['d3', 'jquery'],\n",
              "            exports: 'plotly'\n",
              "          }\n",
              "        }\n",
              "      });\n",
              "\n",
              "      require(['datalab/charting', 'datalab/element!2_153228094236', 'base/js/events',\n",
              "          'datalab/style!/nbextensions/gcpdatalab/charting.css'],\n",
              "        function(charts, dom, events) {\n",
              "          charts.render('gcharts', dom, events, 'table', [], {\"rows\": [{\"c\": [{\"v\": \"Bergen,Jory \"}, {\"v\": \"Male\"}, {\"v\": 17}, {\"v\": 102}]}, {\"c\": [{\"v\": \"Oakes,Homer \"}, {\"v\": \"Male\"}, {\"v\": 17}, {\"v\": 52}]}, {\"c\": [{\"v\": \"Itzkovsky,Gus \"}, {\"v\": \"Male\"}, {\"v\": 17}, {\"v\": 21}]}, {\"c\": [{\"v\": \"Suarez,Clyde \"}, {\"v\": \"Male\"}, {\"v\": 17}, {\"v\": 80}]}, {\"c\": [{\"v\": \"Tiuit,Douglas \"}, {\"v\": \"Male\"}, {\"v\": 17}, {\"v\": 196}]}, {\"c\": [{\"v\": \"Carletto,Franzen \"}, {\"v\": \"Male\"}, {\"v\": 17}, {\"v\": 155}]}, {\"c\": [{\"v\": \"Cheese,Claiborn \"}, {\"v\": \"Male\"}, {\"v\": 17}, {\"v\": 101}]}, {\"c\": [{\"v\": \"Screeton,Marius \"}, {\"v\": \"Male\"}, {\"v\": 17}, {\"v\": 164}]}, {\"c\": [{\"v\": \"Henrie Moyce\"}, {\"v\": \"Female\"}, {\"v\": 17}, {\"v\": 95}]}, {\"c\": [{\"v\": \"Theressa MacDermid\"}, {\"v\": \"Female\"}, {\"v\": 17}, {\"v\": 150}]}], \"cols\": [{\"type\": \"string\", \"id\": \"CustomerName\", \"label\": \"CustomerName\"}, {\"type\": \"string\", \"id\": \"Gender\", \"label\": \"Gender\"}, {\"type\": \"number\", \"id\": \"Age\", \"label\": \"Age\"}, {\"type\": \"number\", \"id\": \"Salary\", \"label\": \"Salary\"}]},\n",
              "            {\n",
              "              pageSize: 25,\n",
              "              cssClassNames:  {\n",
              "                tableRow: 'gchart-table-row',\n",
              "                headerRow: 'gchart-table-headerrow',\n",
              "                oddTableRow: 'gchart-table-oddrow',\n",
              "                selectedTableRow: 'gchart-table-selectedrow',\n",
              "                hoverTableRow: 'gchart-table-hoverrow',\n",
              "                tableCell: 'gchart-table-cell',\n",
              "                headerCell: 'gchart-table-headercell',\n",
              "                rowNumberCell: 'gchart-table-rownumcell'\n",
              "              }\n",
              "            },\n",
              "            {source_index: 1, fields: 'CustomerName,Gender,Age,Salary'},\n",
              "            0,\n",
              "            10);\n",
              "        }\n",
              "      );\n",
              "    </script>\n",
              "  "
            ],
            "text/plain": [
              "QueryResultsTable job_AnLlHwJBdtzvqLQ12kTULVNQTgi-"
            ]
          },
          "metadata": {
            "tags": []
          },
          "execution_count": 4
        }
      ]
    },
    {
      "metadata": {
        "id": "ZoLULF1_u6hv",
        "colab_type": "code",
        "colab": {}
      },
      "cell_type": "code",
      "source": [
        "from google.colab import auth\n",
        "auth.authenticate_user()"
      ],
      "execution_count": 0,
      "outputs": []
    },
    {
      "metadata": {
        "id": "RHiq5Me0u6g7",
        "colab_type": "code",
        "colab": {}
      },
      "cell_type": "code",
      "source": [
        "from google.cloud import bigquery\n",
        "\n",
        "# https://cloud.google.com/resource-manager/docs/creating-managing-projects\n",
        "project_id = '[your Cloud Platform project ID]'\n",
        "client = bigquery.Client(project=project_id)\n",
        "\n",
        "for dataset in client.list_datasets():\n",
        "  print(dataset.dataset_id)"
      ],
      "execution_count": 0,
      "outputs": []
    }
  ]
}